{
 "cells": [
  {
   "cell_type": "code",
   "execution_count": 1,
   "id": "7429b807",
   "metadata": {},
   "outputs": [],
   "source": [
    "import pandas as pd \n",
    "import numpy as np \n",
    "import os\n",
    "import pickle\n",
    "import matplotlib.pyplot as plt\n",
    "import json \n",
    "from tensorflow.keras.applications.vgg16 import VGG16,preprocess_input\n",
    "from tensorflow.keras.preprocessing import image\n",
    "from tensorflow.keras.preprocessing.image import load_img, img_to_array\n",
    "from tensorflow.keras.preprocessing.text import Tokenizer\n",
    "from tensorflow.keras.preprocessing.sequence import pad_sequences\n",
    "from tensorflow.keras.models import Model\n",
    "from tensorflow.keras.utils import to_categorical,plot_model\n",
    "from tensorflow.keras.layers import Input,Dense,LSTM,Embedding,Dropout,add"
   ]
  },
  {
   "cell_type": "code",
   "execution_count": null,
   "id": "71b74a65",
   "metadata": {},
   "outputs": [],
   "source": [
    "model = load_model(\"besst_model.h5\")"
   ]
  },
  {
   "cell_type": "code",
   "execution_count": null,
   "id": "11b1ae3f",
   "metadata": {},
   "outputs": [],
   "source": [
    "model_vgg = Model(inputs = model.inputs,outputs = model.layers[-2].output)"
   ]
  },
  {
   "cell_type": "code",
   "execution_count": null,
   "id": "39038b72",
   "metadata": {},
   "outputs": [],
   "source": [
    "def preprocess_image(img):\n",
    "    #load the image from file \n",
    "    img = load_img(img,target_size = (224,224))\n",
    "    #image pixel to numpy array \n",
    "    img = img_to_array(img)\n",
    "    #reshapre data for model\n",
    "    img = np.expand_dims(img,axis=0)\n",
    "    #preprocess image for vgg\n",
    "    img = preprocess_input(img)\n",
    "    return img"
   ]
  },
  {
   "cell_type": "code",
   "execution_count": null,
   "id": "72078005",
   "metadata": {},
   "outputs": [],
   "source": [
    "def encode_image(img):\n",
    "    img = preprocess_image(img)\n",
    "    feature_vector = model_vgg.predict(img)\n",
    "    feature_vector = feature_vector.reshape(1,feature_vector.shape[1])\n",
    "    return feature_vector"
   ]
  },
  {
   "cell_type": "code",
   "execution_count": null,
   "id": "7ad4d293",
   "metadata": {},
   "outputs": [],
   "source": [
    "enc = encode_image(\"\")"
   ]
  },
  {
   "cell_type": "code",
   "execution_count": null,
   "id": "2884bf74",
   "metadata": {},
   "outputs": [],
   "source": [
    "enc.shape"
   ]
  },
  {
   "cell_type": "code",
   "execution_count": null,
   "id": "8e3d2b9f",
   "metadata": {},
   "outputs": [],
   "source": [
    "def predict_caption(model,image,tokenizer):\n",
    "    #Add start tag for generation process\n",
    "    in_text = 'start'\n",
    "    max_length = 35\n",
    "    #iterate over max-length of sequence\n",
    "    for i in range(max_length):\n",
    "        #Encode input sequences\n",
    "        sequence = tokenizer.texts_to_sequences([in_text])[0]\n",
    "        #Pad the Seequence\n",
    "        sequence = pad_sequences([sequence], max_length)\n",
    "        #predict next word \n",
    "        yhat = model.predict([image,sequence],verbose = 0)\n",
    "        #Get index with High Probability\n",
    "        yhat = np.argmax(yhat)\n",
    "        #Convert index to word\n",
    "        word = idx_to_word(yhat,tokenizer)\n",
    "        if word is None:\n",
    "            break\n",
    "        #Append word as input for generating next word\n",
    "        in_text += \" \"+word\n",
    "        #Stop if we reach end Tag\n",
    "        if word == 'end':\n",
    "            break\n",
    "        return in_text"
   ]
  },
  {
   "cell_type": "code",
   "execution_count": null,
   "id": "d562fc9a",
   "metadata": {},
   "outputs": [],
   "source": [
    "predict_caption(model_vgg,enc,)"
   ]
  },
  {
   "cell_type": "code",
   "execution_count": null,
   "id": "b161372b",
   "metadata": {},
   "outputs": [],
   "source": []
  }
 ],
 "metadata": {
  "kernelspec": {
   "display_name": "Python 3 (ipykernel)",
   "language": "python",
   "name": "python3"
  },
  "language_info": {
   "codemirror_mode": {
    "name": "ipython",
    "version": 3
   },
   "file_extension": ".py",
   "mimetype": "text/x-python",
   "name": "python",
   "nbconvert_exporter": "python",
   "pygments_lexer": "ipython3",
   "version": "3.9.7"
  }
 },
 "nbformat": 4,
 "nbformat_minor": 5
}
